{
 "cells": [
  {
   "cell_type": "code",
   "execution_count": 31,
   "metadata": {},
   "outputs": [],
   "source": [
    "import requests\n",
    "from dotenv import load_dotenv\n",
    "import os\n",
    "load_dotenv()\n",
    "url_c =\"/v1/chat/completions\"\n",
    "url_embeddings = \"/v1/embeddings\"\n",
    "localhost =\"http://127.0.0.1:8000\"\n",
    "# localhost =\"http://163.5.207.104:8000\"\n",
    "openai = \"https://api.openai.com\"\n",
    "OPENAI_API_KEY = os.getenv(\"OPENAI_API_KEY\")\n",
    "headers = {\n",
    "\"Authorization\": f\"Bearer {OPENAI_API_KEY}\",\n",
    "\"Content-Type\": \"application/json\"\n",
    "}\n",
    "\n",
    "headers2 = {\n",
    "\"authorization\": f\"Bearer {OPENAI_API_KEY}\",\n",
    "\"content-type\": \"application/json\"\n",
    "}\n",
    "\n",
    "d_c = {\n",
    "    \"model\": \"gpt-3.5-turbo-1106\",\n",
    "    \"messages\": [\n",
    "        {\n",
    "            \"role\": \"system\",\n",
    "            \"content\": \"You are a helpful assistant.\"\n",
    "        },\n",
    "        {\n",
    "            \"role\": \"user\",\n",
    "            \"content\": \"Hello!\"\n",
    "        }\n",
    "    ],\n",
    "    \"temperature\":0,\n",
    "    \"stream\":False\n",
    "}\n",
    "\n",
    "d_c2 = {\n",
    "    \"model\": \"gpt-3.5-turbo-1106\",\n",
    "    \"messages\": [\n",
    "      {\n",
    "        \"role\": \"system\",\n",
    "        \"content\": \"You are a helpful assistant.\"\n",
    "      },\n",
    "      {\n",
    "        \"role\": \"user\",\n",
    "        \"content\": \"Hello!\"\n",
    "      }\n",
    "    ],\n",
    "    \"stream\": False\n",
    "  }\n",
    "\n",
    "def completions():\n",
    "    response = requests.post(localhost+url_c, headers = headers2, json=d_c2)\n",
    "    return response\n",
    "\n",
    "def completions2():\n",
    "    response = requests.post(openai+url_c, headers = headers2, json=d_c2)\n",
    "    return response\n",
    "\n",
    "\n",
    "def completions3():\n",
    "    import openai\n",
    "    openai.api_key = OPENAI_API_KEY\n",
    "    openai.api_base = localhost+\"/v1\"\n",
    "\n",
    "    from openai import OpenAI\n",
    "    client = OpenAI(api_key=OPENAI_API_KEY, base_url= openai.api_base)\n",
    "    response = client.chat.completions.create(**d_c)\n",
    "    return response\n",
    "\n",
    "def completions4():\n",
    "    import openai\n",
    "    openai.api_key = OPENAI_API_KEY\n",
    "    openai.api_base = localhost+\"/v1\"\n",
    "\n",
    "    from openai import AsyncOpenAI\n",
    "    async def test():\n",
    "        client = await AsyncOpenAI(api_key=OPENAI_API_KEY, base_url= openai.api_base)\n",
    "\n",
    "        response = client.chat.completions.create(**d_c)\n",
    "        print(response.text)\n",
    "        return response\n",
    "    import asyncio\n",
    "    t = test()\n",
    "    asyncio.run(t)\n",
    "    "
   ]
  },
  {
   "cell_type": "code",
   "execution_count": 37,
   "metadata": {},
   "outputs": [
    {
     "data": {
      "text/plain": [
       "'{\\n  \"id\": \"chatcmpl-8kt7DPvSmRUm8QJ32XcV7Agyrb3B1\",\\n  \"object\": \"chat.completion\",\\n  \"created\": 1706185643,\\n  \"model\": \"gpt-3.5-turbo-1106\",\\n  \"choices\": [\\n    {\\n      \"index\": 0,\\n      \"message\": {\\n        \"role\": \"assistant\",\\n        \"content\": \"Оценка квартиры проводится при разделе имущества супругов в бракоразводном процессе, при внесудебном имущественном споре о ее стоимости, при оформлении наследства и его разделе между наследниками, при ипотечном кредитовании, для заключения договора купли-продажи. Также оценка квартиры необходима в судебном процессе при остановке строительства жилого дома и нарушении сроков сдачи объекта. Для проведения оценки квартиры необходимы свидетельство о праве собственности, технический документ с планом-экспликацией (при наличии), правоустанавливающий документ (например, договор купли-продажи, договор приватизации, договор долевого участия, решение суда и т.д.).\"\\n      },\\n      \"logprobs\": null,\\n      \"finish_reason\": \"stop\"\\n    }\\n  ],\\n  \"usage\": {\\n    \"prompt_tokens\": 1916,\\n    \"completion_tokens\": 294,\\n    \"total_tokens\": 2210\\n  },\\n  \"system_fingerprint\": \"fp_aaa20cc2ba\"\\n}\\n'"
      ]
     },
     "execution_count": 37,
     "metadata": {},
     "output_type": "execute_result"
    }
   ],
   "source": [
    "r.text"
   ]
  }
 ],
 "metadata": {
  "kernelspec": {
   "display_name": "env",
   "language": "python",
   "name": "python3"
  },
  "language_info": {
   "codemirror_mode": {
    "name": "ipython",
    "version": 3
   },
   "file_extension": ".py",
   "mimetype": "text/x-python",
   "name": "python",
   "nbconvert_exporter": "python",
   "pygments_lexer": "ipython3",
   "version": "3.11.5"
  }
 },
 "nbformat": 4,
 "nbformat_minor": 2
}
