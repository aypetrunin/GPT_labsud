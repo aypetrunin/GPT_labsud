{
 "cells": [
  {
   "cell_type": "code",
   "execution_count": 1,
   "metadata": {},
   "outputs": [],
   "source": [
    "# url = \"http://127.0.0.1:5000\"\n",
    "url = \"http://109.172.91.211:5000\""
   ]
  },
  {
   "cell_type": "code",
   "execution_count": 2,
   "metadata": {},
   "outputs": [
    {
     "name": "stdout",
     "output_type": "stream",
     "text": [
      "{'completion_tokens': 0,\n",
      " 'duration': '0.972453',\n",
      " 'message': '(ответ из базы вопросов)\\n'\n",
      "            'Вы можете связаться с нами, позвонив по телефону 8 (846) '\n",
      "            '211-63-65 (все звонки по России бесплатны) или оставив заявку на '\n",
      "            'обратный звонок на нашем сайте https://federallab.ru/kontaktyi/. '\n",
      "            'Мы также готовы бесплатно консультировать вас по вопросам '\n",
      "            'целесообразности производства экспертизы и помогать в поиске '\n",
      "            'необходимой информации.',\n",
      " 'message_id': 4,\n",
      " 'prompt_tokens': 0,\n",
      " 'question_db': True,\n",
      " 'refined_query': 'Где можно к вам обратиться?'}\n"
     ]
    }
   ],
   "source": [
    "import requests\n",
    "\n",
    "# использование кастомного chatgpt через кастомный api\n",
    "payload = {\"text\":\"Где можно к вам обратиться?\", \"user_id\":\"test\",\"dialog\":\"0\"}\n",
    "response = requests.post(f\"{url}/api/get_answer\", json=payload)\n",
    "from pprint import pprint\n",
    "pprint(response.json())"
   ]
  },
  {
   "cell_type": "code",
   "execution_count": 3,
   "metadata": {},
   "outputs": [
    {
     "name": "stdout",
     "output_type": "stream",
     "text": [
      "{'completion_tokens': 356,\n",
      " 'duration': '12.982021',\n",
      " 'message': 'ФЛСЭ предоставляет несколько видов автоэкспертизы, включая '\n",
      "            'экспертизу технического состояния ТС, экспертизу обстоятельств '\n",
      "            'ДТП и следов ТС, оценку автомобилей, а также автотовароведческую '\n",
      "            'экспертизу. Автотовароведческая экспертиза сочетает в себе '\n",
      "            'товароведческую и автотехническую экспертизу, позволяя получить '\n",
      "            'ответы на вопросы относительно соответствия качества автомобиля '\n",
      "            'как товара, его узлов и агрегатов данным, указанным в договоре '\n",
      "            'купли-продажи, а также условиям безопасности эксплуатации. В '\n",
      "            'случае сложных ситуаций, связанных с дорожно-транспортными '\n",
      "            'происшествиями или при купле-продаже автомобилей, '\n",
      "            'профессиональная автотехническая экспертиза ФЛСЭ поможет '\n",
      "            'разрешить спорные вопросы. Если вам нужна дополнительная '\n",
      "            'информация, пожалуйста, дайте знать.',\n",
      " 'message_id': 5,\n",
      " 'prompt_tokens': 1519,\n",
      " 'question_db': False,\n",
      " 'refined_query': 'Автоэкспертиза'}\n"
     ]
    }
   ],
   "source": [
    "import requests\n",
    "\n",
    "# использование кастомного chatgpt через кастомный api\n",
    "payload = {\"text\":\"Автоэкспертиза\", \"user_id\":\"test\",\"dialog\":\"1\"}\n",
    "response = requests.post(f\"{url}/api/get_answer\", json=payload)\n",
    "from pprint import pprint\n",
    "pprint(response.json())"
   ]
  },
  {
   "cell_type": "code",
   "execution_count": 4,
   "metadata": {},
   "outputs": [
    {
     "name": "stdout",
     "output_type": "stream",
     "text": [
      "[{\"start_dt\":\"2024-01-25T16:12:57.528352\",\"count\":2}]\n"
     ]
    }
   ],
   "source": [
    "import requests\n",
    "response = requests.get(f\"{url}/requestperhourlist\")\n",
    "print(response.text)"
   ]
  },
  {
   "cell_type": "code",
   "execution_count": 5,
   "metadata": {},
   "outputs": [
    {
     "name": "stdout",
     "output_type": "stream",
     "text": [
      "'ok 2'\n"
     ]
    }
   ],
   "source": [
    "response = requests.get(f\"{url}/api/add_rating?message_id=5&rate=2\")\n",
    "from pprint import pprint\n",
    "pprint(response.json())"
   ]
  },
  {
   "cell_type": "code",
   "execution_count": null,
   "metadata": {},
   "outputs": [],
   "source": []
  }
 ],
 "metadata": {
  "kernelspec": {
   "display_name": "env",
   "language": "python",
   "name": "python3"
  },
  "language_info": {
   "codemirror_mode": {
    "name": "ipython",
    "version": 3
   },
   "file_extension": ".py",
   "mimetype": "text/x-python",
   "name": "python",
   "nbconvert_exporter": "python",
   "pygments_lexer": "ipython3",
   "version": "3.11.5"
  }
 },
 "nbformat": 4,
 "nbformat_minor": 2
}
