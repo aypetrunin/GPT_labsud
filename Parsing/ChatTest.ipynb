{
 "cells": [
  {
   "cell_type": "code",
   "execution_count": 2,
   "metadata": {},
   "outputs": [
    {
     "data": {
      "text/plain": [
       "'<tbody>\\n<tr class=\"table-header_blue\">\\n<td colspan=\"1\" rowspan=\"2\">№</td>\\n<td colspan=\"1\" rowspan=\"2'"
      ]
     },
     "execution_count": 2,
     "metadata": {},
     "output_type": "execute_result"
    }
   ],
   "source": [
    "path_content = \"data\"\n",
    "filename = f'{path_content}/07table.html'\n",
    "with open(filename,\"r\",encoding=\"utf-8\") as f:\n",
    "    text = f.read()\n",
    "text[:100]"
   ]
  },
  {
   "cell_type": "code",
   "execution_count": 3,
   "metadata": {},
   "outputs": [],
   "source": [
    "import getpass\n",
    "import os\n",
    "import openai\n",
    "openai_key = getpass.getpass(\"OpenAI API Key:\")\n",
    "os.environ[\"OPENAI_API_KEY\"] = openai_key\n",
    "openai.api_key = openai_key"
   ]
  },
  {
   "cell_type": "code",
   "execution_count": 6,
   "metadata": {},
   "outputs": [],
   "source": [
    "import tiktoken\n",
    "def num_tokens_from_string(string: str, encoding_name: str) -> int:\n",
    "      \"\"\"Возвращает количество токенов в строке\"\"\"\n",
    "      encoding = tiktoken.get_encoding(encoding_name)\n",
    "      num_tokens = len(encoding.encode(string))\n",
    "      return num_tokens"
   ]
  },
  {
   "cell_type": "code",
   "execution_count": 7,
   "metadata": {},
   "outputs": [
    {
     "data": {
      "text/plain": [
       "2027"
      ]
     },
     "execution_count": 7,
     "metadata": {},
     "output_type": "execute_result"
    }
   ],
   "source": [
    "nt = num_tokens_from_string(text, \"cl100k_base\")\n",
    "nt"
   ]
  },
  {
   "cell_type": "code",
   "execution_count": 11,
   "metadata": {},
   "outputs": [
    {
     "data": {
      "text/plain": [
       "'Стоимость составления акта осмотра зависит от количества позиций в акте. В таблице указаны цены для различного количества позиций. Например, составление акта осмотра с одной позицией стоит 1050 рублей для легковых автомобилей и 1200 рублей для грузовых автомобилей и автобусов. Цены увеличиваются с увеличением количества позиций.'"
      ]
     },
     "execution_count": 11,
     "metadata": {},
     "output_type": "execute_result"
    }
   ],
   "source": [
    "system =\"\"\n",
    "message_content = \"Таблица с ценами: Стоимость услуги\\n \"+text\n",
    "verbose = False\n",
    "temp = 0\n",
    "topic = \"Сколько стоит составление акта осмотра\"\n",
    "# если параметр verbose=1, то выводим релевантные чанки\n",
    "if verbose:\n",
    "    print('message_content :\\n', message_content)\n",
    "\n",
    "messages = [\n",
    "    {\"role\": \"system\", \"content\": system},\n",
    "    # в user промпт тоже пишем на английском - для экономии токенов\n",
    "    {\"role\": \"user\", \"content\": f\"Answer the user's question. Document with information for the user's answer: {message_content}\\n\\n User's question: \\n{topic}\"}\n",
    "]\n",
    "\n",
    "completion = openai.ChatCompletion.create(\n",
    "    model=\"gpt-3.5-turbo\",\n",
    "    messages=messages,\n",
    "    temperature=temp\n",
    ")\n",
    "\n",
    "completion.choices[0].message.content"
   ]
  },
  {
   "cell_type": "code",
   "execution_count": 12,
   "metadata": {},
   "outputs": [
    {
     "data": {
      "text/plain": [
       "'{\\n  \"services\": [\\n    {\\n      \"number\": \"I\",\\n      \"name\": \"Составления акта осмотра (повреждений)\",\\n      \"independent_expertise_car_price\": {\\n        \"1_position\": 1050,\\n        \"2_3_positions\": 1150,\\n        \"4_5_positions\": 1350,\\n        \"6_10_positions\": 1550,\\n        \"11_20_positions\": 1750,\\n        \"21_30_positions\": 2000,\\n        \"31_40_positions\": 2300,\\n        \"41_50_positions\": 2750,\\n        \"51_60_positions\": 3000,\\n        \"61_positions_and_more\": 3500\\n      },\\n      \"judicial_expertise_car_price\": {\\n        \"1_position\": 2100,\\n        \"2_3_positions\": 2300,\\n        \"4_5_positions\": 2700,\\n        \"6_10_positions\": 3100,\\n        \"11_20_positions\": 3500,\\n        \"21_30_positions\": 4000,\\n        \"31_40_positions\": 4600,\\n        \"41_50_positions\": 5500,\\n        \"51_60_positions\": 6000,\\n        \"61_positions_and_more\": 7000\\n      },\\n      \"independent_expertise_truck_bus_price\": {\\n        \"1_position\": 1200,\\n        \"2_3_positions\": 1350,\\n        \"4_5_positions\": 1450,\\n        \"6_10_positions\": 2000,\\n        \"11_20_positions\": 2300,\\n        \"21_30_positions\": 2550,\\n        \"31_40_positions\": 3100,\\n        \"41_50_positions\": 3400,\\n        \"51_60_positions\": 3900,\\n        \"61_positions_and_more\": 4650\\n      },\\n      \"judicial_expertise_truck_bus_price\": {\\n        \"1_position\": 2400,\\n        \"2_3_positions\": 2700,\\n        \"4_5_positions\": 2900,\\n        \"6_10_positions\": 4000,\\n        \"11_20_positions\": 4600,\\n        \"21_30_positions\": 5100,\\n        \"31_40_positions\": 6200,\\n        \"41_50_positions\": 6800,\\n        \"51_60_positions\": 7800,\\n        \"61_positions_and_more\": 9300\\n      }\\n    },\\n    {\\n      \"number\": \"II\",\\n      \"name\": \"Расчет стоимости ремонта автотранспортного средства, подготовка заключения\",\\n      \"repair_calculation_car_price\": {\\n        \"1_position\": 1700,\\n        \"2_3_positions\": 1950,\\n        \"4_5_positions\": 2300,\\n        \"6_10_positions\": 3050,\\n        \"11_20_positions\": 3700,\\n        \"21_30_positions\": 4250,\\n        \"31_40_positions\": 4850,\\n        \"41_50_positions\": 5600,\\n        \"51_60_positions\": 6150,\\n        \"61_positions_and_more\": 6950\\n      },\\n      \"repair_calculation_truck_bus_price\": {\\n        \"1_position\": 1850,\\n        \"2_3_positions\": 2550,\\n        \"4_5_positions\": 3050,\\n        \"6_10_positions\": 3750,\\n        \"11_20_positions\": 4750,\\n        \"21_30_positions\": 5600,\\n        \"31_40_positions\": 6150,\\n        \"41_50_positions\": 7250,\\n        \"51_60_positions\": 8250,\\n        \"61_positions_and_more\": 9100\\n      },\\n      \"judicial_expertise_car_price\": {\\n        \"1_position\": 5000,\\n        \"2_3_positions\": 7000,\\n        \"4_5_positions\": 7000,\\n        \"6_10_positions\": 9000,\\n        \"11_20_positions\": 10000,\\n        \"21_30_positions\": 12000,\\n        \"31_40_positions\": 14000,\\n        \"41_50_positions\": 15000,\\n        \"51_60_positions\": 15000,\\n        \"61_positions_and_more\": 17000\\n      },\\n      \"judicial_expertise_truck_bus_price\": {\\n        \"1_position\": 5000,\\n        \"2_3_positions\": 8000,\\n        \"4_5_positions\": 8000,\\n        \"6_10_positions\": 10000,\\n        \"11_20_positions\": 11000,\\n        \"21_30_positions\": 13000,\\n        \"31_40_positions\": 15000,\\n        \"41_50_positions\": 16000,\\n        \"51_60_positions\": 16000,\\n        \"61_positions_and_more\": 18000\\n      }\\n    },\\n    {\\n      \"number\": \"III\",\\n      \"name\": \"Прочие расчеты\",\\n      \"loss_of_market_value_price\": {\\n        \"car_price\": 3000,\\n        \"truck_bus_price\": 3650\\n      },\\n      \"market_value_determination_price\": {\\n        \"car_price\": 4300,\\n        \"truck_bus_price\": 5500\\n      },\\n      \"discrepancies_calculation_price\": 1500,\\n      \"residual_value_calculation_price\": {\\n        \"car_price\": 3000,\\n        \"truck_bus_price\": 3500\\n      }\\n    }\\n  ]\\n}'"
      ]
     },
     "execution_count": 12,
     "metadata": {},
     "output_type": "execute_result"
    }
   ],
   "source": [
    "\n",
    "\n",
    "system =\"\"\n",
    "message_content = \"Таблица с ценами: Стоимость услуги\\n \"+text\n",
    "verbose = False\n",
    "temp = 0\n",
    "topic = \"Преобразуй таблицу в формате json\"\n",
    "# если параметр verbose=1, то выводим релевантные чанки\n",
    "if verbose:\n",
    "    print('message_content :\\n', message_content)\n",
    "\n",
    "messages = [\n",
    "    {\"role\": \"system\", \"content\": system},\n",
    "    # в user промпт тоже пишем на английском - для экономии токенов\n",
    "    {\"role\": \"user\", \"content\": f\"Answer the user's question. Document with information for the user's answer: {message_content}\\n\\n User's question: \\n{topic}\"}\n",
    "]\n",
    "\n",
    "completion = openai.ChatCompletion.create(\n",
    "    model=\"gpt-3.5-turbo\",\n",
    "    messages=messages,\n",
    "    temperature=temp\n",
    ")\n",
    "\n",
    "completion.choices[0].message.content"
   ]
  },
  {
   "cell_type": "code",
   "execution_count": 13,
   "metadata": {},
   "outputs": [
    {
     "data": {
      "text/plain": [
       "1"
      ]
     },
     "execution_count": 13,
     "metadata": {},
     "output_type": "execute_result"
    }
   ],
   "source": [
    "json = completion.choices[0].message.content\n",
    "#len(completion.choices)"
   ]
  },
  {
   "cell_type": "code",
   "execution_count": 14,
   "metadata": {},
   "outputs": [],
   "source": [
    "filename = f'{path_content}/07table.json'\n",
    "with open(filename,\"w\",encoding=\"utf-8\") as f:\n",
    "    f.write(json)"
   ]
  },
  {
   "cell_type": "code",
   "execution_count": 15,
   "metadata": {},
   "outputs": [
    {
     "data": {
      "text/plain": [
       "1190"
      ]
     },
     "execution_count": 15,
     "metadata": {},
     "output_type": "execute_result"
    }
   ],
   "source": [
    "nt = num_tokens_from_string(json, \"cl100k_base\")\n",
    "nt"
   ]
  }
 ],
 "metadata": {
  "kernelspec": {
   "display_name": "base",
   "language": "python",
   "name": "python3"
  },
  "language_info": {
   "codemirror_mode": {
    "name": "ipython",
    "version": 3
   },
   "file_extension": ".py",
   "mimetype": "text/x-python",
   "name": "python",
   "nbconvert_exporter": "python",
   "pygments_lexer": "ipython3",
   "version": "3.11.4"
  }
 },
 "nbformat": 4,
 "nbformat_minor": 2
}
