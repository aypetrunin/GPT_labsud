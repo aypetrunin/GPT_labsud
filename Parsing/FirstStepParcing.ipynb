{
 "cells": [
  {
   "cell_type": "code",
   "execution_count": 1,
   "metadata": {},
   "outputs": [],
   "source": [
    "url = \"https://federallab.ru\"\n",
    "url_site_map = f'{url}/sitemap.xml'\n",
    "path_content = \"data\"\n"
   ]
  },
  {
   "cell_type": "code",
   "execution_count": null,
   "metadata": {},
   "outputs": [],
   "source": [
    "from langchain.document_loaders.sitemap import SitemapLoader\n",
    "from bs4 import BeautifulSoup"
   ]
  },
  {
   "cell_type": "code",
   "execution_count": 3,
   "metadata": {},
   "outputs": [],
   "source": [
    "\n",
    "sitemap_loader = SitemapLoader(url_site_map)\n",
    "soup = sitemap_loader.scrape(\"xml\") \n"
   ]
  },
  {
   "cell_type": "code",
   "execution_count": 9,
   "metadata": {},
   "outputs": [],
   "source": [
    "soup1:BeautifulSoup =  soup\n"
   ]
  },
  {
   "cell_type": "code",
   "execution_count": 11,
   "metadata": {},
   "outputs": [],
   "source": [
    "els = []\n",
    "#add_urls = [\"docs/get_started/\",\"/docs/guides\"]\n",
    "for url in soup.find_all(\"url\"):\n",
    "    loc = url.find(\"loc\")\n",
    "    if not loc:\n",
    "        continue\n",
    "\n",
    "    # Strip leading and trailing whitespace and newlines\n",
    "    loc_text = loc.text.strip()\n",
    "    # if not any(\n",
    "    #     re.search(r, loc_text) for r in add_urls\n",
    "    # ):\n",
    "        # continue\n",
    "\n",
    "    els.append(\n",
    "        {\n",
    "            tag: prop.text\n",
    "            for tag in [\"loc\", \"lastmod\", \"changefreq\", \"priority\"]\n",
    "            if (prop := url.find(tag))\n",
    "        }\n",
    "    )\n",
    "\n",
    "# els"
   ]
  },
  {
   "cell_type": "code",
   "execution_count": 12,
   "metadata": {},
   "outputs": [
    {
     "data": {
      "text/plain": [
       "[{'loc': 'https://federallab.ru',\n",
       "  'lastmod': '2022-12-23',\n",
       "  'changefreq': 'monthly',\n",
       "  'priority': '1.0'},\n",
       " {'loc': 'https://federallab.ru/soglasie-na-obrabotku-personalnyix-dannyix/',\n",
       "  'lastmod': '2019-10-29',\n",
       "  'changefreq': 'monthly',\n",
       "  'priority': '0.9'},\n",
       " {'loc': 'https://federallab.ru/otzyivyi/',\n",
       "  'lastmod': '2019-10-29',\n",
       "  'changefreq': 'monthly',\n",
       "  'priority': '0.9'},\n",
       " {'loc': 'https://federallab.ru/uslugi-ekspertizyi/sudebnaya-ekspertiza-dokumentov/',\n",
       "  'lastmod': '2020-01-10',\n",
       "  'changefreq': 'monthly',\n",
       "  'priority': '0.9'},\n",
       " {'loc': 'https://federallab.ru/uslugi-ekspertizyi/oczenochnaya-ekspertiza/oczenka-garazha/',\n",
       "  'lastmod': '2020-01-16',\n",
       "  'changefreq': 'monthly',\n",
       "  'priority': '0.9'},\n",
       " {'loc': 'https://federallab.ru/prajs-list/',\n",
       "  'lastmod': '2021-02-09',\n",
       "  'changefreq': 'monthly',\n",
       "  'priority': '0.9'},\n",
       " {'loc': 'https://federallab.ru/uslugi-ekspertizyi/buxgalterskaya-ekspertiza/',\n",
       "  'lastmod': '2021-06-24',\n",
       "  'changefreq': 'monthly',\n",
       "  'priority': '0.9'},\n",
       " {'loc': 'https://federallab.ru/o-kompanii/',\n",
       "  'lastmod': '2021-05-26',\n",
       "  'changefreq': 'monthly',\n",
       "  'priority': '0.9'},\n",
       " {'loc': 'https://federallab.ru/uslugi-ekspertizyi/oczenochnaya-ekspertiza/',\n",
       "  'lastmod': '2021-05-26',\n",
       "  'changefreq': 'monthly',\n",
       "  'priority': '0.9'},\n",
       " {'loc': 'https://federallab.ru/uslugi-ekspertizyi/oczenochnaya-ekspertiza/oczenka-mashin-i-oborudovaniya/',\n",
       "  'lastmod': '2020-01-17',\n",
       "  'changefreq': 'monthly',\n",
       "  'priority': '0.9'},\n",
       " {'loc': 'https://federallab.ru/uslugi-ekspertizyi/oczenochnaya-ekspertiza/oczenka-dachi/',\n",
       "  'lastmod': '2020-01-16',\n",
       "  'changefreq': 'monthly',\n",
       "  'priority': '0.9'},\n",
       " {'loc': 'https://federallab.ru/uslugi-ekspertizyi/texniko-kriminalisticheskaya-ekspertiza/',\n",
       "  'lastmod': '2021-05-26',\n",
       "  'changefreq': 'monthly',\n",
       "  'priority': '0.9'},\n",
       " {'loc': 'https://federallab.ru/karta/',\n",
       "  'lastmod': '2019-10-29',\n",
       "  'changefreq': 'monthly',\n",
       "  'priority': '0.9'},\n",
       " {'loc': 'https://federallab.ru/sertifikatyi/',\n",
       "  'lastmod': '2019-08-26',\n",
       "  'changefreq': 'monthly',\n",
       "  'priority': '0.9'},\n",
       " {'loc': 'https://federallab.ru/uslugi-ekspertizyi/',\n",
       "  'lastmod': '2019-08-30',\n",
       "  'changefreq': 'monthly',\n",
       "  'priority': '0.9'},\n",
       " {'loc': 'https://federallab.ru/uslugi-ekspertizyi/nalogovaya-ekspertiza/',\n",
       "  'lastmod': '2020-01-10',\n",
       "  'changefreq': 'monthly',\n",
       "  'priority': '0.9'},\n",
       " {'loc': 'https://federallab.ru/uslugi-oczenki/oczenka-ryinochnoj-stoimosti/',\n",
       "  'lastmod': '2020-02-14',\n",
       "  'changefreq': 'monthly',\n",
       "  'priority': '0.9'},\n",
       " {'loc': 'https://federallab.ru/uslugi-ekspertizyi/avtotexnicheskaya-ekspertiza/',\n",
       "  'lastmod': '2021-05-26',\n",
       "  'changefreq': 'monthly',\n",
       "  'priority': '0.9'},\n",
       " {'loc': 'https://federallab.ru/uslugi-ekspertizyi/tovarnaya-ekspertiza/',\n",
       "  'lastmod': '2021-05-26',\n",
       "  'changefreq': 'monthly',\n",
       "  'priority': '0.9'},\n",
       " {'loc': 'https://federallab.ru/uslugi-ekspertizyi/oczenochnaya-ekspertiza/oczenka-obektov-intellektualnoj-sobstvennosti/',\n",
       "  'lastmod': '2020-01-16',\n",
       "  'changefreq': 'monthly',\n",
       "  'priority': '0.9'},\n",
       " {'loc': 'https://federallab.ru/uslugi-ekspertizyi/ekspertiza-proektov/',\n",
       "  'lastmod': '2020-01-10',\n",
       "  'changefreq': 'monthly',\n",
       "  'priority': '0.9'},\n",
       " {'loc': 'https://federallab.ru/uslugi-ekspertizyi/stroitelno-texnicheskaya-ekspertiza/',\n",
       "  'lastmod': '2021-05-26',\n",
       "  'changefreq': 'monthly',\n",
       "  'priority': '0.9'},\n",
       " {'loc': 'https://federallab.ru/uslugi-ekspertizyi/oczenochnaya-ekspertiza/oczenka-arendnyix-obyazatelstv/',\n",
       "  'lastmod': '2019-11-08',\n",
       "  'changefreq': 'monthly',\n",
       "  'priority': '0.9'},\n",
       " {'loc': 'https://federallab.ru/uslugi-ekspertizyi/oczenochnaya-ekspertiza/oczenka-kvartiryi/',\n",
       "  'lastmod': '2020-01-16',\n",
       "  'changefreq': 'monthly',\n",
       "  'priority': '0.9'},\n",
       " {'loc': 'https://federallab.ru/uslugi-ekspertizyi/oczenochnaya-ekspertiza/oczenka-czennyix-bumag/',\n",
       "  'lastmod': '2020-01-16',\n",
       "  'changefreq': 'monthly',\n",
       "  'priority': '0.9'},\n",
       " {'loc': 'https://federallab.ru/uslugi-ekspertizyi/oczenochnaya-ekspertiza/oczenka-biznesa/',\n",
       "  'lastmod': '2020-01-16',\n",
       "  'changefreq': 'monthly',\n",
       "  'priority': '0.9'},\n",
       " {'loc': 'https://federallab.ru/sudebnaya-praktika/',\n",
       "  'lastmod': '2019-10-29',\n",
       "  'changefreq': 'monthly',\n",
       "  'priority': '0.9'},\n",
       " {'loc': 'https://federallab.ru/akczii/',\n",
       "  'lastmod': '2020-02-27',\n",
       "  'changefreq': 'monthly',\n",
       "  'priority': '0.9'},\n",
       " {'loc': 'https://federallab.ru/uslugi-ekspertizyi/finansovo-ekonomicheskaya-ekspertiza/',\n",
       "  'lastmod': '2019-11-01',\n",
       "  'changefreq': 'monthly',\n",
       "  'priority': '0.9'},\n",
       " {'loc': 'https://federallab.ru/politika-konfidenczialnosti/',\n",
       "  'lastmod': '2019-10-29',\n",
       "  'changefreq': 'monthly',\n",
       "  'priority': '0.9'},\n",
       " {'loc': 'https://federallab.ru/stati/',\n",
       "  'lastmod': '2020-01-16',\n",
       "  'changefreq': 'monthly',\n",
       "  'priority': '0.9'},\n",
       " {'loc': 'https://federallab.ru/uslugi-ekspertizyi/oczenochnaya-ekspertiza/oczenka-upushhennoj-vyigodyi/',\n",
       "  'lastmod': '2020-01-27',\n",
       "  'changefreq': 'monthly',\n",
       "  'priority': '0.9'},\n",
       " {'loc': 'https://federallab.ru/uslugi-ekspertizyi/recenzii-na-sudebnie-ekspertizy/',\n",
       "  'lastmod': '2018-08-16',\n",
       "  'changefreq': 'monthly',\n",
       "  'priority': '0.9'},\n",
       " {'loc': 'https://federallab.ru/osparivanie-kadastrovoj-stoimosti/',\n",
       "  'lastmod': '2021-06-16',\n",
       "  'changefreq': 'monthly',\n",
       "  'priority': '0.9'},\n",
       " {'loc': 'https://federallab.ru/uslugi-ekspertizyi/oczenochnaya-ekspertiza/oczenka-avtotransporta/',\n",
       "  'lastmod': '2020-01-27',\n",
       "  'changefreq': 'monthly',\n",
       "  'priority': '0.9'},\n",
       " {'loc': 'https://federallab.ru/uslugi-ekspertizyi/oczenochnaya-ekspertiza/oczenka-doma/',\n",
       "  'lastmod': '2020-01-16',\n",
       "  'changefreq': 'monthly',\n",
       "  'priority': '0.9'},\n",
       " {'loc': 'https://federallab.ru/kontaktyi/',\n",
       "  'lastmod': '2021-06-02',\n",
       "  'changefreq': 'monthly',\n",
       "  'priority': '0.9'},\n",
       " {'loc': 'https://federallab.ru/uslugi-ekspertizyi/oczenochnaya-ekspertiza/oczenka-vsex-vidov-ushherbov/',\n",
       "  'lastmod': '2020-01-31',\n",
       "  'changefreq': 'monthly',\n",
       "  'priority': '0.9'},\n",
       " {'loc': 'https://federallab.ru/uslugi-ekspertizyi/oczenochnaya-ekspertiza/oczenka-nedvizhimosti/',\n",
       "  'lastmod': '2021-06-24',\n",
       "  'changefreq': 'monthly',\n",
       "  'priority': '0.9'},\n",
       " {'loc': 'https://federallab.ru/uslugi-ekspertizyi/zemleustroitelnaya-ekspertiza/',\n",
       "  'lastmod': '2021-05-26',\n",
       "  'changefreq': 'monthly',\n",
       "  'priority': '0.9'},\n",
       " {'loc': 'https://federallab.ru/uslugi-ekspertizyi/oczenochnaya-ekspertiza/oczenka-debitorskoj-i-kreditorskoj-zadolzhennosti/',\n",
       "  'lastmod': '2020-01-16',\n",
       "  'changefreq': 'monthly',\n",
       "  'priority': '0.9'},\n",
       " {'loc': 'https://federallab.ru/uslugi-ekspertizyi/podcherkovedcheskaya-ekspertiza/',\n",
       "  'lastmod': '2021-05-26',\n",
       "  'changefreq': 'monthly',\n",
       "  'priority': '0.9'},\n",
       " {'loc': 'https://federallab.ru/sudebnaya-praktika/reshenie-po-grazhdanskomu-delu-promyishlennyij-rajonnyij-sud-29.10.19/',\n",
       "  'lastmod': '2020-01-12',\n",
       "  'changefreq': 'monthly',\n",
       "  'priority': '0.8'},\n",
       " {'loc': 'https://federallab.ru/sudebnaya-praktika/reshenie-po-grazhdanskomu-delu-novokujbyishevskij-gorodskoj-sud-05.07.19/',\n",
       "  'lastmod': '2020-01-12',\n",
       "  'changefreq': 'monthly',\n",
       "  'priority': '0.8'},\n",
       " {'loc': 'https://federallab.ru/uslugi-ekspertizyi/avtotexnicheskaya-ekspertiza/oczenka-avtomobilej/',\n",
       "  'lastmod': '2019-11-20',\n",
       "  'changefreq': 'monthly',\n",
       "  'priority': '0.8'},\n",
       " {'loc': 'https://federallab.ru/uslugi-ekspertizyi/avtotexnicheskaya-ekspertiza/telegrammyi-vyizova-uchastnika-dtp/',\n",
       "  'lastmod': '2019-10-29',\n",
       "  'changefreq': 'monthly',\n",
       "  'priority': '0.8'},\n",
       " {'loc': 'https://federallab.ru/sudebnaya-praktika/reshenie-po-grazhdanskomu-delu-16.01.2019-goda-oktyabrskij-rajonnyij-sud-g.-samaryi/',\n",
       "  'lastmod': '2020-01-12',\n",
       "  'changefreq': 'monthly',\n",
       "  'priority': '0.8'},\n",
       " {'loc': 'https://federallab.ru/uslugi-ekspertizyi/stroitelno-texnicheskaya-ekspertiza/ekspertiza-po-razdelu-nedvizhimosti-(domovladenij)/',\n",
       "  'lastmod': '2020-01-16',\n",
       "  'changefreq': 'monthly',\n",
       "  'priority': '0.8'},\n",
       " {'loc': 'https://federallab.ru/sudebnaya-praktika/reshenie-po-grazhdanskomu-delu-promyishlennyij-rajonnyij-sud-29.05.19/',\n",
       "  'lastmod': '2020-01-12',\n",
       "  'changefreq': 'monthly',\n",
       "  'priority': '0.8'},\n",
       " {'loc': 'https://federallab.ru/uslugi-ekspertizyi/avtotexnicheskaya-ekspertiza/ekspertiza-obstoyatelstv-dtp/',\n",
       "  'lastmod': '2019-12-07',\n",
       "  'changefreq': 'monthly',\n",
       "  'priority': '0.8'},\n",
       " {'loc': 'https://federallab.ru/sudebnaya-praktika/reshenie-po-grazhdanskomu-delu-novokujbyishevskij-gorodskoj-sud-01.11.19/',\n",
       "  'lastmod': '2020-01-12',\n",
       "  'changefreq': 'monthly',\n",
       "  'priority': '0.8'},\n",
       " {'loc': 'https://federallab.ru/sudebnaya-praktika/reshenie-po-grazhdanskomu-delu-g.-otradnyij-02.08.2019/',\n",
       "  'lastmod': '2020-01-12',\n",
       "  'changefreq': 'monthly',\n",
       "  'priority': '0.8'},\n",
       " {'loc': 'https://federallab.ru/sudebnaya-praktika/reshenie-po-grazhdanskomu-delu-kinelskij-rajonnyij-sud-samarskoj-oblasti/',\n",
       "  'lastmod': '2020-01-12',\n",
       "  'changefreq': 'monthly',\n",
       "  'priority': '0.8'},\n",
       " {'loc': 'https://federallab.ru/sudebnaya-praktika/reshenie-po-grazhdanskomu-delu-g.-kinel-19.02.2018/',\n",
       "  'lastmod': '2020-01-12',\n",
       "  'changefreq': 'monthly',\n",
       "  'priority': '0.8'},\n",
       " {'loc': 'https://federallab.ru/otzyivyi-o-kompanii-flse-v-samare/',\n",
       "  'lastmod': '2020-06-05',\n",
       "  'changefreq': 'monthly',\n",
       "  'priority': '0.8'},\n",
       " {'loc': 'https://federallab.ru/stati/chto-trebuetsya-dlya-lingvisticheskoj-ekspertizyi/',\n",
       "  'lastmod': '2019-11-08',\n",
       "  'changefreq': 'monthly',\n",
       "  'priority': '0.8'},\n",
       " {'loc': 'https://federallab.ru/sudebnaya-praktika/reshenie-po-grazhdanskomu-delu-otradnenskij-gorodskoj-sud-09.12.19/',\n",
       "  'lastmod': '2020-01-12',\n",
       "  'changefreq': 'monthly',\n",
       "  'priority': '0.8'},\n",
       " {'loc': 'https://federallab.ru/sudebnaya-praktika/reshenie-po-grazhdanskomu-delu-oktyabrskij-gorodskoj-sud-29.10.19/',\n",
       "  'lastmod': '2020-01-12',\n",
       "  'changefreq': 'monthly',\n",
       "  'priority': '0.8'},\n",
       " {'loc': 'https://federallab.ru/uslugi-ekspertizyi/avtotexnicheskaya-ekspertiza/avtotovarovedcheskaya-ekspertiza/',\n",
       "  'lastmod': '2019-11-08',\n",
       "  'changefreq': 'monthly',\n",
       "  'priority': '0.8'},\n",
       " {'loc': 'https://federallab.ru/kontaktyi/oficzialnyie-predstavileli/',\n",
       "  'lastmod': '2020-05-12',\n",
       "  'changefreq': 'monthly',\n",
       "  'priority': '0.8'},\n",
       " {'loc': 'https://federallab.ru/stati/etapyi-provedeniya-avtoekspertizyi/',\n",
       "  'lastmod': '2019-11-08',\n",
       "  'changefreq': 'monthly',\n",
       "  'priority': '0.8'},\n",
       " {'loc': 'https://federallab.ru/uslugi-ekspertizyi/avtotexnicheskaya-ekspertiza/sud-so-straxovoj/',\n",
       "  'lastmod': '2019-10-29',\n",
       "  'changefreq': 'monthly',\n",
       "  'priority': '0.8'},\n",
       " {'loc': 'https://federallab.ru/sudebnaya-praktika/reshenie-po-grazhdanskomu-delu-promyishlennyij-rajonnyij-sud-26.11.19/',\n",
       "  'lastmod': '2020-01-12',\n",
       "  'changefreq': 'monthly',\n",
       "  'priority': '0.8'},\n",
       " {'loc': 'https://federallab.ru/stati/komu-nuzhno-provedenie-promyishlennoj-ekspertizyi/',\n",
       "  'lastmod': '2020-01-10',\n",
       "  'changefreq': 'monthly',\n",
       "  'priority': '0.8'},\n",
       " {'loc': 'https://federallab.ru/sudebnaya-praktika/reshenie-po-grazhdanskomu-delu/',\n",
       "  'lastmod': '2020-01-12',\n",
       "  'changefreq': 'monthly',\n",
       "  'priority': '0.8'},\n",
       " {'loc': 'https://federallab.ru/sudebnaya-praktika/reshenie-po-grazhdanskomu-delu-syizranskij-gorodskoj-sud-18.04.19/',\n",
       "  'lastmod': '2020-01-12',\n",
       "  'changefreq': 'monthly',\n",
       "  'priority': '0.8'},\n",
       " {'loc': 'https://federallab.ru/uslugi-ekspertizyi/stroitelno-texnicheskaya-ekspertiza/ekspertiza-plastikovyix-okon-pvx/',\n",
       "  'lastmod': '2019-11-01',\n",
       "  'changefreq': 'monthly',\n",
       "  'priority': '0.8'},\n",
       " {'loc': 'https://federallab.ru/uslugi-ekspertizyi/avtotexnicheskaya-ekspertiza/sovetyi-avtolyubitelyam/',\n",
       "  'lastmod': '2019-10-29',\n",
       "  'changefreq': 'monthly',\n",
       "  'priority': '0.8'},\n",
       " {'loc': 'https://federallab.ru/sudebnaya-praktika/reshenie-po-grazhdanskomu-delu-4-fevralya-2019-goda-oktyabrskij-rajonnyij-sud-g.-samaryi/',\n",
       "  'lastmod': '2020-01-12',\n",
       "  'changefreq': 'monthly',\n",
       "  'priority': '0.8'},\n",
       " {'loc': 'https://federallab.ru/sudebnaya-praktika/reshenie-po-grazhdanskomu-delu-sovestkij-rajonnyij-sud-22.10.19/',\n",
       "  'lastmod': '2020-01-12',\n",
       "  'changefreq': 'monthly',\n",
       "  'priority': '0.8'},\n",
       " {'loc': 'https://federallab.ru/sudebnaya-praktika/reshenie-po-grazhdanskomu-delu-chapaevskij-gorodskoj-sud-30.04.19/',\n",
       "  'lastmod': '2020-01-12',\n",
       "  'changefreq': 'monthly',\n",
       "  'priority': '0.8'},\n",
       " {'loc': 'https://federallab.ru/uslugi-ekspertizyi/stroitelno-texnicheskaya-ekspertiza/texnicheskoe-obsledovanie-zdanij-i-sooruzhenij/',\n",
       "  'lastmod': '2019-11-08',\n",
       "  'changefreq': 'monthly',\n",
       "  'priority': '0.8'},\n",
       " {'loc': 'https://federallab.ru/stati/dlya-chego-nuzhno-delat-avtomobilnuyu-ekspertizu/',\n",
       "  'lastmod': '2020-01-16',\n",
       "  'changefreq': 'monthly',\n",
       "  'priority': '0.8'},\n",
       " {'loc': 'https://federallab.ru/sudebnaya-praktika/reshenie-po-grazhdanskomu-delu-04-fevralya-2019-g.-g.-samara-kirovskij-rajonnyij-sud/',\n",
       "  'lastmod': '2020-01-12',\n",
       "  'changefreq': 'monthly',\n",
       "  'priority': '0.8'},\n",
       " {'loc': 'https://federallab.ru/sudebnaya-praktika/reshenie-po-grazhdanskomu-delu-syizranskij-gorodskoj-sud-samarskoj-oblasti-27-iyunya-2019-goda/',\n",
       "  'lastmod': '2020-01-12',\n",
       "  'changefreq': 'monthly',\n",
       "  'priority': '0.8'},\n",
       " {'loc': 'https://federallab.ru/sudebnaya-praktika/reshenie-po-grazhdanskomu-delu-promyishlennyij-rajonnyij-sud-22.08.19/',\n",
       "  'lastmod': '2020-01-12',\n",
       "  'changefreq': 'monthly',\n",
       "  'priority': '0.8'},\n",
       " {'loc': 'https://federallab.ru/uslugi-ekspertizyi/zemleustroitelnaya-ekspertiza/ekspertiza-granicz-uchastkov/',\n",
       "  'lastmod': '2019-11-01',\n",
       "  'changefreq': 'monthly',\n",
       "  'priority': '0.8'},\n",
       " {'loc': 'https://federallab.ru/uslugi-ekspertizyi/avtotexnicheskaya-ekspertiza/ekspertiza-texnicheskogo-sostoyaniya-ts/',\n",
       "  'lastmod': '2019-11-20',\n",
       "  'changefreq': 'monthly',\n",
       "  'priority': '0.8'},\n",
       " {'loc': 'https://federallab.ru/sudebnaya-praktika/reshenie-po-grazhdanskomu-delu-1/',\n",
       "  'lastmod': '2020-01-12',\n",
       "  'changefreq': 'monthly',\n",
       "  'priority': '0.8'},\n",
       " {'loc': 'https://federallab.ru/uslugi-ekspertizyi/stroitelno-texnicheskaya-ekspertiza/ekspertiza-smet-i-dogovorov/',\n",
       "  'lastmod': '2019-10-10',\n",
       "  'changefreq': 'monthly',\n",
       "  'priority': '0.8'},\n",
       " {'loc': 'https://federallab.ru/kontaktyi/myi-v-regionax/',\n",
       "  'lastmod': '2020-05-12',\n",
       "  'changefreq': 'monthly',\n",
       "  'priority': '0.8'},\n",
       " {'loc': 'https://federallab.ru/sudebnaya-praktika/reshenie-po-grazhdanskomu-delu-05-iyulya-2019-goda-promyishlennyij-rajonnyij-sud-g.-samaryi/',\n",
       "  'lastmod': '2020-01-12',\n",
       "  'changefreq': 'monthly',\n",
       "  'priority': '0.8'},\n",
       " {'loc': 'https://federallab.ru/stati/5-situaczij-kogda-nuzhna-avtoekspertiza/',\n",
       "  'lastmod': '2020-03-12',\n",
       "  'changefreq': 'monthly',\n",
       "  'priority': '0.8'},\n",
       " {'loc': 'https://federallab.ru/uslugi-ekspertizyi/tovarnaya-ekspertiza/ekspertiza-telefonov-i-planshetov/',\n",
       "  'lastmod': '2019-11-08',\n",
       "  'changefreq': 'monthly',\n",
       "  'priority': '0.8'},\n",
       " {'loc': 'https://federallab.ru/sudebnaya-praktika/reshenie-po-grazhdanskomu-delu-volzhskij-rajonnyij-sud-14.05.19/',\n",
       "  'lastmod': '2020-01-12',\n",
       "  'changefreq': 'monthly',\n",
       "  'priority': '0.8'},\n",
       " {'loc': 'https://federallab.ru/sudebnaya-praktika/reshenie-po-grazhdanskomu-delu-3/',\n",
       "  'lastmod': '2020-01-12',\n",
       "  'changefreq': 'monthly',\n",
       "  'priority': '0.8'},\n",
       " {'loc': 'https://federallab.ru/uslugi-ekspertizyi/tovarnaya-ekspertiza/ekspertiza-mashin-i-mexanizmov/',\n",
       "  'lastmod': '2019-11-21',\n",
       "  'changefreq': 'monthly',\n",
       "  'priority': '0.8'},\n",
       " {'loc': 'https://federallab.ru/uslugi-ekspertizyi/stroitelno-texnicheskaya-ekspertiza/ekspertiza-stroitelnyix-kommunikaczij/',\n",
       "  'lastmod': '2020-01-16',\n",
       "  'changefreq': 'monthly',\n",
       "  'priority': '0.8'},\n",
       " {'loc': 'https://federallab.ru/uslugi-ekspertizyi/avtotexnicheskaya-ekspertiza/ekspertiza-obstoyatelstv-dtp-i-sledov-ts/',\n",
       "  'lastmod': '2019-11-14',\n",
       "  'changefreq': 'monthly',\n",
       "  'priority': '0.8'},\n",
       " {'loc': 'https://federallab.ru/vopros-otvet/',\n",
       "  'lastmod': '2019-10-29',\n",
       "  'changefreq': 'monthly',\n",
       "  'priority': '0.8'},\n",
       " {'loc': 'https://federallab.ru/sudebnaya-praktika/reshenie-po-grazhdanskomu-delu-g.-avtozavodskij-rajonnyij-sud-g.-tolyatti-17.04.2018/',\n",
       "  'lastmod': '2020-01-12',\n",
       "  'changefreq': 'monthly',\n",
       "  'priority': '0.8'},\n",
       " {'loc': 'https://federallab.ru/sudebnaya-praktika/reshenie-po-grazhdanskomu-delu-2/',\n",
       "  'lastmod': '2020-01-12',\n",
       "  'changefreq': 'monthly',\n",
       "  'priority': '0.8'},\n",
       " {'loc': 'https://federallab.ru/stati/3-etapa-lingvisticheskoj-ekspertizyi/',\n",
       "  'lastmod': '2019-11-08',\n",
       "  'changefreq': 'monthly',\n",
       "  'priority': '0.8'},\n",
       " {'loc': 'https://federallab.ru/sudebnaya-praktika/reshenie-po-grazhdanskomu-delu-18-aprelya-2019-goda-volzhskij-rajonnyij-sud-samarskoj-oblasti/',\n",
       "  'lastmod': '2020-01-12',\n",
       "  'changefreq': 'monthly',\n",
       "  'priority': '0.8'},\n",
       " {'loc': 'https://federallab.ru/sudebnaya-praktika/reshenie-po-grazhdanskomu-delu-avtozavodskij-rajonnyij-sud-g.-tolyatti-28.03.2019-goda/',\n",
       "  'lastmod': '2020-01-12',\n",
       "  'changefreq': 'monthly',\n",
       "  'priority': '0.8'},\n",
       " {'loc': 'https://federallab.ru/sudebnaya-praktika/reshenie-po-grazhdanskomu-delu-promyishlennyij-rajonnyij-sud-27.11.19/',\n",
       "  'lastmod': '2020-01-12',\n",
       "  'changefreq': 'monthly',\n",
       "  'priority': '0.8'},\n",
       " {'loc': 'https://federallab.ru/uslugi-ekspertizyi/stroitelno-texnicheskaya-ekspertiza/ekspertiza-proekta/',\n",
       "  'lastmod': '2019-11-08',\n",
       "  'changefreq': 'monthly',\n",
       "  'priority': '0.8'},\n",
       " {'loc': 'https://federallab.ru/stati/5-samyix-populyarnyix-voprosov-po-buxgalterskoj-ekspertize/',\n",
       "  'lastmod': '2020-03-12',\n",
       "  'changefreq': 'monthly',\n",
       "  'priority': '0.8'},\n",
       " {'loc': 'https://federallab.ru/sudebnaya-praktika/reshenie-po-grazhdanskomu-delu-promyishlennyij-rajonnyij-sud-16.09.19/',\n",
       "  'lastmod': '2020-01-12',\n",
       "  'changefreq': 'monthly',\n",
       "  'priority': '0.8'},\n",
       " {'loc': 'https://federallab.ru/sudebnaya-praktika/reshenie-po-grazhdanskomu-delu-syizranskij-gorodskoj-sud-14.10.19/',\n",
       "  'lastmod': '2020-01-12',\n",
       "  'changefreq': 'monthly',\n",
       "  'priority': '0.8'},\n",
       " {'loc': 'https://federallab.ru/novosti/',\n",
       "  'lastmod': '2019-11-08',\n",
       "  'changefreq': 'monthly',\n",
       "  'priority': '0.8'},\n",
       " {'loc': 'https://federallab.ru/uslugi-ekspertizyi/zemleustroitelnaya-ekspertiza/ekspertiza-mezhevogo-dela/',\n",
       "  'lastmod': '2019-11-01',\n",
       "  'changefreq': 'monthly',\n",
       "  'priority': '0.8'},\n",
       " {'loc': 'https://federallab.ru/sudebnaya-praktika/reshenie-po-grazhdanskomu-delu-4/',\n",
       "  'lastmod': '2020-01-12',\n",
       "  'changefreq': 'monthly',\n",
       "  'priority': '0.8'},\n",
       " {'loc': 'https://federallab.ru/sudebnaya-praktika/reshenie-po-grazhdanskomu-delu-promyishlennyij-rajonnyij-sud-21.08.19/',\n",
       "  'lastmod': '2020-01-12',\n",
       "  'changefreq': 'monthly',\n",
       "  'priority': '0.8'},\n",
       " {'loc': 'https://federallab.ru/sudebnaya-praktika/reshenie-po-grazhdanskomu-delu-g.-samaryi-30.10.2018/',\n",
       "  'lastmod': '2020-01-12',\n",
       "  'changefreq': 'monthly',\n",
       "  'priority': '0.8'},\n",
       " {'loc': 'https://federallab.ru/sudebnaya-praktika/reshenie-po-grazhdanskomu-delu-zheleznodorozhnyij-rajonnyij-sud-21.07.19/',\n",
       "  'lastmod': '2020-01-12',\n",
       "  'changefreq': 'monthly',\n",
       "  'priority': '0.8'},\n",
       " {'loc': 'https://federallab.ru/obrashheniya-grazhdan/',\n",
       "  'lastmod': '2019-12-08',\n",
       "  'changefreq': 'monthly',\n",
       "  'priority': '0.8'},\n",
       " {'loc': 'https://federallab.ru/uslugi-ekspertizyi/stroitelno-texnicheskaya-ekspertiza/ekspertiza-kachestva-stroitelstva/',\n",
       "  'lastmod': '2019-11-08',\n",
       "  'changefreq': 'monthly',\n",
       "  'priority': '0.8'},\n",
       " {'loc': 'https://federallab.ru/sudebnaya-praktika/reshenie-po-grazhdanskomu-delu-08-avgusta-2019-goda-g.o.-samara-sovetskij-rajonnyij-sud/',\n",
       "  'lastmod': '2020-01-12',\n",
       "  'changefreq': 'monthly',\n",
       "  'priority': '0.8'},\n",
       " {'loc': 'https://federallab.ru/stati/kogda-nuzhna-nalogovaya-ekspertiza/',\n",
       "  'lastmod': '2020-01-10',\n",
       "  'changefreq': 'monthly',\n",
       "  'priority': '0.8'},\n",
       " {'loc': 'https://federallab.ru/uslugi-ekspertizyi/tovarnaya-ekspertiza/ekspertiza-byitovoj-texniki/',\n",
       "  'lastmod': '2019-11-08',\n",
       "  'changefreq': 'monthly',\n",
       "  'priority': '0.8'},\n",
       " {'loc': 'https://federallab.ru/o-kompanii/dlya-sledovatelej-i-sudej/',\n",
       "  'lastmod': '2019-10-29',\n",
       "  'changefreq': 'monthly',\n",
       "  'priority': '0.8'},\n",
       " {'loc': 'https://federallab.ru/uslugi-ekspertizyi/stroitelno-texnicheskaya-ekspertiza/ekspertiza-po-rezultatam-zaliva-i-pozhara/',\n",
       "  'lastmod': '2019-11-08',\n",
       "  'changefreq': 'monthly',\n",
       "  'priority': '0.8'},\n",
       " {'loc': 'https://federallab.ru/uslugi-ekspertizyi/avtotexnicheskaya-ekspertiza/chto-delat-esli-vyi-popali-v-dtp/',\n",
       "  'lastmod': '2019-10-29',\n",
       "  'changefreq': 'monthly',\n",
       "  'priority': '0.8'},\n",
       " {'loc': 'https://federallab.ru/novosti/pered-sdachej-v-arendu-obektov-dlya-detej-nuzhno-provesti-ekspertizu/',\n",
       "  'lastmod': '2019-12-12',\n",
       "  'changefreq': 'monthly',\n",
       "  'priority': '0.7'},\n",
       " {'loc': 'https://federallab.ru/novosti/ischeznovenie-straxovshhikov-iz-oms/',\n",
       "  'lastmod': '2019-12-12',\n",
       "  'changefreq': 'monthly',\n",
       "  'priority': '0.7'},\n",
       " {'loc': 'https://federallab.ru/novosti/rosreestr-planiruet-otdat-ekspertizu-sdelok-s-nedvizhimostyu-v-ruki-robota/',\n",
       "  'lastmod': '2019-12-12',\n",
       "  'changefreq': 'monthly',\n",
       "  'priority': '0.7'},\n",
       " {'loc': 'https://federallab.ru/novosti/molodyix-advokatov-izbavili-ot-obroka/',\n",
       "  'lastmod': '2019-12-12',\n",
       "  'changefreq': 'monthly',\n",
       "  'priority': '0.7'}]"
      ]
     },
     "execution_count": 12,
     "metadata": {},
     "output_type": "execute_result"
    }
   ],
   "source": [
    "els"
   ]
  },
  {
   "cell_type": "code",
   "execution_count": 17,
   "metadata": {},
   "outputs": [
    {
     "data": {
      "text/plain": [
       "['https://federallab.ru/kontaktyi/',\n",
       " 'https://federallab.ru/kontaktyi/myi-v-regionax/',\n",
       " 'https://federallab.ru/kontaktyi/oficzialnyie-predstavileli/',\n",
       " 'https://federallab.ru/o-kompanii/',\n",
       " 'https://federallab.ru/o-kompanii/dlya-sledovatelej-i-sudej/',\n",
       " 'https://federallab.ru/obrashheniya-grazhdan/',\n",
       " 'https://federallab.ru/osparivanie-kadastrovoj-stoimosti/',\n",
       " 'https://federallab.ru/uslugi-ekspertizyi/avtotexnicheskaya-ekspertiza/',\n",
       " 'https://federallab.ru/uslugi-ekspertizyi/avtotexnicheskaya-ekspertiza/avtotovarovedcheskaya-ekspertiza/',\n",
       " 'https://federallab.ru/uslugi-ekspertizyi/avtotexnicheskaya-ekspertiza/chto-delat-esli-vyi-popali-v-dtp/',\n",
       " 'https://federallab.ru/uslugi-ekspertizyi/avtotexnicheskaya-ekspertiza/ekspertiza-obstoyatelstv-dtp-i-sledov-ts/',\n",
       " 'https://federallab.ru/uslugi-ekspertizyi/avtotexnicheskaya-ekspertiza/ekspertiza-obstoyatelstv-dtp/',\n",
       " 'https://federallab.ru/uslugi-ekspertizyi/avtotexnicheskaya-ekspertiza/ekspertiza-texnicheskogo-sostoyaniya-ts/',\n",
       " 'https://federallab.ru/uslugi-ekspertizyi/avtotexnicheskaya-ekspertiza/oczenka-avtomobilej/',\n",
       " 'https://federallab.ru/uslugi-ekspertizyi/avtotexnicheskaya-ekspertiza/sovetyi-avtolyubitelyam/',\n",
       " 'https://federallab.ru/uslugi-ekspertizyi/avtotexnicheskaya-ekspertiza/sud-so-straxovoj/',\n",
       " 'https://federallab.ru/uslugi-ekspertizyi/avtotexnicheskaya-ekspertiza/telegrammyi-vyizova-uchastnika-dtp/',\n",
       " 'https://federallab.ru/uslugi-ekspertizyi/buxgalterskaya-ekspertiza/',\n",
       " 'https://federallab.ru/uslugi-ekspertizyi/ekspertiza-proektov/',\n",
       " 'https://federallab.ru/uslugi-ekspertizyi/finansovo-ekonomicheskaya-ekspertiza/',\n",
       " 'https://federallab.ru/uslugi-ekspertizyi/nalogovaya-ekspertiza/',\n",
       " 'https://federallab.ru/uslugi-ekspertizyi/oczenochnaya-ekspertiza/',\n",
       " 'https://federallab.ru/uslugi-ekspertizyi/oczenochnaya-ekspertiza/oczenka-arendnyix-obyazatelstv/',\n",
       " 'https://federallab.ru/uslugi-ekspertizyi/oczenochnaya-ekspertiza/oczenka-avtotransporta/',\n",
       " 'https://federallab.ru/uslugi-ekspertizyi/oczenochnaya-ekspertiza/oczenka-biznesa/',\n",
       " 'https://federallab.ru/uslugi-ekspertizyi/oczenochnaya-ekspertiza/oczenka-czennyix-bumag/',\n",
       " 'https://federallab.ru/uslugi-ekspertizyi/oczenochnaya-ekspertiza/oczenka-dachi/',\n",
       " 'https://federallab.ru/uslugi-ekspertizyi/oczenochnaya-ekspertiza/oczenka-debitorskoj-i-kreditorskoj-zadolzhennosti/',\n",
       " 'https://federallab.ru/uslugi-ekspertizyi/oczenochnaya-ekspertiza/oczenka-doma/',\n",
       " 'https://federallab.ru/uslugi-ekspertizyi/oczenochnaya-ekspertiza/oczenka-garazha/',\n",
       " 'https://federallab.ru/uslugi-ekspertizyi/oczenochnaya-ekspertiza/oczenka-kvartiryi/',\n",
       " 'https://federallab.ru/uslugi-ekspertizyi/oczenochnaya-ekspertiza/oczenka-mashin-i-oborudovaniya/',\n",
       " 'https://federallab.ru/uslugi-ekspertizyi/oczenochnaya-ekspertiza/oczenka-nedvizhimosti/',\n",
       " 'https://federallab.ru/uslugi-ekspertizyi/oczenochnaya-ekspertiza/oczenka-obektov-intellektualnoj-sobstvennosti/',\n",
       " 'https://federallab.ru/uslugi-ekspertizyi/oczenochnaya-ekspertiza/oczenka-upushhennoj-vyigodyi/',\n",
       " 'https://federallab.ru/uslugi-ekspertizyi/oczenochnaya-ekspertiza/oczenka-vsex-vidov-ushherbov/',\n",
       " 'https://federallab.ru/uslugi-ekspertizyi/podcherkovedcheskaya-ekspertiza/',\n",
       " 'https://federallab.ru/uslugi-ekspertizyi/recenzii-na-sudebnie-ekspertizy/',\n",
       " 'https://federallab.ru/uslugi-ekspertizyi/stroitelno-texnicheskaya-ekspertiza/',\n",
       " 'https://federallab.ru/uslugi-ekspertizyi/stroitelno-texnicheskaya-ekspertiza/ekspertiza-kachestva-stroitelstva/',\n",
       " 'https://federallab.ru/uslugi-ekspertizyi/stroitelno-texnicheskaya-ekspertiza/ekspertiza-plastikovyix-okon-pvx/',\n",
       " 'https://federallab.ru/uslugi-ekspertizyi/stroitelno-texnicheskaya-ekspertiza/ekspertiza-po-razdelu-nedvizhimosti-(domovladenij)/',\n",
       " 'https://federallab.ru/uslugi-ekspertizyi/stroitelno-texnicheskaya-ekspertiza/ekspertiza-po-rezultatam-zaliva-i-pozhara/',\n",
       " 'https://federallab.ru/uslugi-ekspertizyi/stroitelno-texnicheskaya-ekspertiza/ekspertiza-proekta/',\n",
       " 'https://federallab.ru/uslugi-ekspertizyi/stroitelno-texnicheskaya-ekspertiza/ekspertiza-smet-i-dogovorov/',\n",
       " 'https://federallab.ru/uslugi-ekspertizyi/stroitelno-texnicheskaya-ekspertiza/ekspertiza-stroitelnyix-kommunikaczij/',\n",
       " 'https://federallab.ru/uslugi-ekspertizyi/stroitelno-texnicheskaya-ekspertiza/texnicheskoe-obsledovanie-zdanij-i-sooruzhenij/',\n",
       " 'https://federallab.ru/uslugi-ekspertizyi/sudebnaya-ekspertiza-dokumentov/',\n",
       " 'https://federallab.ru/uslugi-ekspertizyi/texniko-kriminalisticheskaya-ekspertiza/',\n",
       " 'https://federallab.ru/uslugi-ekspertizyi/tovarnaya-ekspertiza/',\n",
       " 'https://federallab.ru/uslugi-ekspertizyi/tovarnaya-ekspertiza/ekspertiza-byitovoj-texniki/',\n",
       " 'https://federallab.ru/uslugi-ekspertizyi/tovarnaya-ekspertiza/ekspertiza-mashin-i-mexanizmov/',\n",
       " 'https://federallab.ru/uslugi-ekspertizyi/tovarnaya-ekspertiza/ekspertiza-telefonov-i-planshetov/',\n",
       " 'https://federallab.ru/uslugi-ekspertizyi/zemleustroitelnaya-ekspertiza/',\n",
       " 'https://federallab.ru/uslugi-ekspertizyi/zemleustroitelnaya-ekspertiza/ekspertiza-granicz-uchastkov/',\n",
       " 'https://federallab.ru/uslugi-ekspertizyi/zemleustroitelnaya-ekspertiza/ekspertiza-mezhevogo-dela/',\n",
       " 'https://federallab.ru/uslugi-oczenki/oczenka-ryinochnoj-stoimosti/']"
      ]
     },
     "execution_count": 17,
     "metadata": {},
     "output_type": "execute_result"
    }
   ],
   "source": [
    "import os\n",
    "if not os.path.exists(path_content):\n",
    "    os.mkdir(path_content)\n",
    "filename = f'{path_content}/pages.txt'\n",
    "with open(filename,\"r\", encoding=\"utf-8\") as f:\n",
    "    pages = f.read()\n",
    "pages = pages.split()\n",
    "pages"
   ]
  },
  {
   "cell_type": "code",
   "execution_count": null,
   "metadata": {},
   "outputs": [],
   "source": []
  },
  {
   "cell_type": "code",
   "execution_count": null,
   "metadata": {},
   "outputs": [],
   "source": []
  },
  {
   "cell_type": "code",
   "execution_count": 20,
   "metadata": {},
   "outputs": [],
   "source": [
    "import nest_asyncio\n",
    "nest_asyncio.apply()"
   ]
  },
  {
   "cell_type": "code",
   "execution_count": 21,
   "metadata": {},
   "outputs": [
    {
     "name": "stderr",
     "output_type": "stream",
     "text": [
      "Fetching pages:   0%|          | 0/57 [00:00<?, ?it/s]"
     ]
    },
    {
     "name": "stderr",
     "output_type": "stream",
     "text": [
      "Fetching pages: 100%|##########| 57/57 [00:05<00:00, 10.62it/s]\n"
     ]
    }
   ],
   "source": [
    "docs = sitemap_loader.scrape_all(pages)"
   ]
  },
  {
   "cell_type": "code",
   "execution_count": 27,
   "metadata": {},
   "outputs": [],
   "source": [
    "for i, e in enumerate(docs):\n",
    "    num = str(i).rjust(2,\"0\")\n",
    "    filename = f'{path_content}/{num}.html'\n",
    "    if not os.path.exists(filename):\n",
    "        with open(filename,\"w\", encoding=\"utf-8\") as f:\n",
    "            f.write(str(e))"
   ]
  },
  {
   "cell_type": "code",
   "execution_count": 28,
   "metadata": {},
   "outputs": [
    {
     "data": {
      "text/plain": [
       "'https://federallab.ru/uslugi-ekspertizyi/avtotexnicheskaya-ekspertiza/'"
      ]
     },
     "execution_count": 28,
     "metadata": {},
     "output_type": "execute_result"
    }
   ],
   "source": [
    "pages[7]"
   ]
  },
  {
   "cell_type": "code",
   "execution_count": null,
   "metadata": {},
   "outputs": [],
   "source": []
  },
  {
   "cell_type": "code",
   "execution_count": 29,
   "metadata": {},
   "outputs": [],
   "source": [
    "html = docs[7]"
   ]
  },
  {
   "cell_type": "code",
   "execution_count": 31,
   "metadata": {},
   "outputs": [
    {
     "data": {
      "text/plain": [
       "1"
      ]
     },
     "execution_count": 31,
     "metadata": {},
     "output_type": "execute_result"
    }
   ],
   "source": [
    "els = html.findAll('div', class_=\"page_avto_expert_wr\")\n",
    "len(els)"
   ]
  },
  {
   "cell_type": "code",
   "execution_count": 32,
   "metadata": {},
   "outputs": [
    {
     "data": {
      "text/plain": [
       "1"
      ]
     },
     "execution_count": 32,
     "metadata": {},
     "output_type": "execute_result"
    }
   ],
   "source": [
    "els = html.findAll('div', class_=\"page_content\")\n",
    "len(els)"
   ]
  },
  {
   "cell_type": "code",
   "execution_count": 34,
   "metadata": {},
   "outputs": [
    {
     "data": {
      "text/plain": [
       "'Независимая автотехническая экспертиза'"
      ]
     },
     "execution_count": 34,
     "metadata": {},
     "output_type": "execute_result"
    }
   ],
   "source": [
    "els[0].findAll('h1')[0].text"
   ]
  },
  {
   "cell_type": "code",
   "execution_count": 36,
   "metadata": {},
   "outputs": [
    {
     "data": {
      "text/plain": [
       "1"
      ]
     },
     "execution_count": 36,
     "metadata": {},
     "output_type": "execute_result"
    }
   ],
   "source": [
    "els2 = els[0].findAll('div', class_=\"page_avto_expert_wr\")\n",
    "len(els2)"
   ]
  },
  {
   "cell_type": "code",
   "execution_count": 39,
   "metadata": {},
   "outputs": [
    {
     "data": {
      "text/plain": [
       "21"
      ]
     },
     "execution_count": 39,
     "metadata": {},
     "output_type": "execute_result"
    }
   ],
   "source": [
    "items =els2[0]\n",
    "len(items)\n"
   ]
  },
  {
   "cell_type": "code",
   "execution_count": 63,
   "metadata": {},
   "outputs": [
    {
     "data": {
      "text/plain": [
       "9"
      ]
     },
     "execution_count": 63,
     "metadata": {},
     "output_type": "execute_result"
    }
   ],
   "source": [
    "\n",
    "i:BeautifulSoup\n",
    "i1 = items.findChild()\n",
    "i = i1\n",
    "sl = list(i.next_siblings)\n",
    "els2=[]\n",
    "for el in sl:\n",
    "    if el.name==\"div\":\n",
    "        els2.append(el)\n",
    "len(els2)"
   ]
  },
  {
   "cell_type": "code",
   "execution_count": 97,
   "metadata": {},
   "outputs": [
    {
     "data": {
      "text/plain": [
       "<div class=\"avt_why\">\n",
       "<h2>Зачем нужна экспертиза и оценка ущерба после ДТП</h2>\n",
       "<div class=\"avt_why_cell\">\n",
       "<div class=\"img\"><img alt=\"Независимая автотехническая экспертиза проведение экспертиз\" src=\"/assets/tpl/img/avt1.png\"/></div>\n",
       "<p>Определить техническое состояние транспортного средства</p>\n",
       "</div>\n",
       "<div class=\"avt_why_cell\">\n",
       "<div class=\"img\"><img alt=\"Независимая автотехническая экспертиза проведение экспертиз\" src=\"/assets/tpl/img/avt2.png\"/></div>\n",
       "<p>Установить механизм, обстоятельства и этапы ДТП</p>\n",
       "</div>\n",
       "</div>"
      ]
     },
     "execution_count": 97,
     "metadata": {},
     "output_type": "execute_result"
    }
   ],
   "source": [
    "els2[1]"
   ]
  },
  {
   "cell_type": "code",
   "execution_count": 96,
   "metadata": {},
   "outputs": [
    {
     "data": {
      "text/plain": [
       "9"
      ]
     },
     "execution_count": 96,
     "metadata": {},
     "output_type": "execute_result"
    }
   ],
   "source": [
    "len(els2)"
   ]
  },
  {
   "cell_type": "code",
   "execution_count": null,
   "metadata": {},
   "outputs": [],
   "source": [
    "# sitemap_loader.load()"
   ]
  },
  {
   "cell_type": "code",
   "execution_count": 71,
   "metadata": {},
   "outputs": [],
   "source": [
    "text = sitemap_loader.parsing_function(els2[0])\n",
    "\n",
    "with open(f'{path_content}/text.txt','w',encoding=\"utf-8\") as f:\n",
    "    f.write(text)"
   ]
  },
  {
   "cell_type": "code",
   "execution_count": 83,
   "metadata": {},
   "outputs": [],
   "source": [
    "table = els2[0]\n",
    "li = list(table.childGenerator())"
   ]
  },
  {
   "cell_type": "code",
   "execution_count": 95,
   "metadata": {},
   "outputs": [],
   "source": [
    "tt = li[3]\n",
    "text = str(tt.tbody)\n",
    "filename = f'{path_content}/07table.html'\n",
    "with open(filename,\"w\",encoding=\"utf-8\") as f:\n",
    "    f.write(text)"
   ]
  }
 ],
 "metadata": {
  "kernelspec": {
   "display_name": "base",
   "language": "python",
   "name": "python3"
  },
  "language_info": {
   "codemirror_mode": {
    "name": "ipython",
    "version": 3
   },
   "file_extension": ".py",
   "mimetype": "text/x-python",
   "name": "python",
   "nbconvert_exporter": "python",
   "pygments_lexer": "ipython3",
   "version": "3.11.4"
  }
 },
 "nbformat": 4,
 "nbformat_minor": 2
}
