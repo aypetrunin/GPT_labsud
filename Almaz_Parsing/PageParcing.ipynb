{
 "cells": [
  {
   "cell_type": "code",
   "execution_count": 88,
   "metadata": {},
   "outputs": [],
   "source": [
    "# Парсим одну страницу сайта\n",
    "\n",
    "url = \"https://federallab.ru\"\n",
    "url_site_map = f'{url}/sitemap.xml'\n",
    "path_content = \"data\"\n",
    "num = \"01\""
   ]
  },
  {
   "cell_type": "code",
   "execution_count": 89,
   "metadata": {},
   "outputs": [
    {
     "data": {
      "text/plain": [
       "'<!DOCTYPE html>\\n\\n<html prefix=\"og: http://ogp.me/ns#\">\\n<head>\\n<base href=\"https://federallab.ru/\"/>\\n'"
      ]
     },
     "execution_count": 89,
     "metadata": {},
     "output_type": "execute_result"
    }
   ],
   "source": [
    "filename = f'{path_content}/{num}.html'\n",
    "with open(filename,\"r\",encoding=\"utf-8\") as f:\n",
    "    text = f.read()\n",
    "text[:100]"
   ]
  },
  {
   "cell_type": "code",
   "execution_count": 90,
   "metadata": {},
   "outputs": [],
   "source": [
    "from bs4 import BeautifulSoup\n",
    "soup = BeautifulSoup(text, \"html.parser\" )"
   ]
  },
  {
   "cell_type": "code",
   "execution_count": 91,
   "metadata": {},
   "outputs": [
    {
     "data": {
      "text/plain": [
       "<title>Лаборатория Судебных Экспертиз ФСЛЭ в регионах</title>"
      ]
     },
     "execution_count": 91,
     "metadata": {},
     "output_type": "execute_result"
    }
   ],
   "source": [
    "soup.title"
   ]
  },
  {
   "cell_type": "code",
   "execution_count": 92,
   "metadata": {},
   "outputs": [
    {
     "data": {
      "text/plain": [
       "0"
      ]
     },
     "execution_count": 92,
     "metadata": {},
     "output_type": "execute_result"
    }
   ],
   "source": [
    "html = soup\n",
    "els = html.findAll('div', class_=\"page_avto_expert_wr\")\n",
    "len(els)"
   ]
  },
  {
   "cell_type": "code",
   "execution_count": null,
   "metadata": {},
   "outputs": [],
   "source": []
  },
  {
   "cell_type": "code",
   "execution_count": 93,
   "metadata": {},
   "outputs": [
    {
     "data": {
      "text/plain": [
       "<h1>Мы в регионах</h1>"
      ]
     },
     "execution_count": 93,
     "metadata": {},
     "output_type": "execute_result"
    }
   ],
   "source": [
    "content = html.findAll('div', class_=\"page_content\")\n",
    "content[0].h1"
   ]
  },
  {
   "cell_type": "code",
   "execution_count": 94,
   "metadata": {},
   "outputs": [
    {
     "data": {
      "text/plain": [
       "['# Мы в регионах']"
      ]
     },
     "execution_count": 94,
     "metadata": {},
     "output_type": "execute_result"
    }
   ],
   "source": [
    "lines = []\n",
    "lines.append(\"# \"+ content[0].h1.text)\n",
    "lines\n",
    "\n"
   ]
  },
  {
   "cell_type": "code",
   "execution_count": 95,
   "metadata": {},
   "outputs": [
    {
     "data": {
      "text/plain": [
       "0"
      ]
     },
     "execution_count": 95,
     "metadata": {},
     "output_type": "execute_result"
    }
   ],
   "source": [
    "els = content[0].findAll('div', class_=\"page_avto_expert_wr\")\n",
    "len(els)"
   ]
  },
  {
   "cell_type": "code",
   "execution_count": 96,
   "metadata": {},
   "outputs": [],
   "source": [
    "def page_avto_expert_wr(els):\n",
    "    for el in els[0].childGenerator():\n",
    "        #print(str(el))\n",
    "        if el.name==\"div\":\n",
    "            if \"class\" in el.attrs:\n",
    "                c = el.attrs[\"class\"]\n",
    "                if c==[\"avt_top_text\"]:\n",
    "                    t= el.text\n",
    "                    lines.append(t)\n",
    "                elif c ==[\"avt_why\"]:\n",
    "                    h2 = el.h2\n",
    "                    if h2!=None:\n",
    "                        lines.append(\"## \"+h2.text)\n",
    "                    lines.extend(map(lambda x:x.text, el.findAll(\"p\")))\n",
    "                elif c==[\"avt_list\"]:\n",
    "                    h3= el.h3\n",
    "                    if h3!=None:\n",
    "                        lines.append(\"## \"+h3.text)\n",
    "                    ol = el.ol\n",
    "                    if ol!=None:\n",
    "                        lines.append(ol.text)\n",
    "            else:\n",
    "                lines.append(\"# Table\")\n",
    "                h2 = el.h2\n",
    "                if h2!=None:\n",
    "                    lines.append(\"## \"+h2.text)\n",
    "                table = el.table\n",
    "                if table!=None:\n",
    "                    lines.append(str(table))\n"
   ]
  },
  {
   "cell_type": "code",
   "execution_count": 105,
   "metadata": {},
   "outputs": [],
   "source": [
    "def page_text(els):\n",
    "    for el in els.childGenerator():\n",
    "        #print(str(el))\n",
    "        if el.name==\"p\":\n",
    "            lines.append(\"\")\n",
    "            lines.append(el.text)\n",
    "        elif el.name ==\"h2\":\n",
    "            lines.append(\"## \"+el.text)\n",
    "        elif el.name ==\"h3\":\n",
    "            lines.append(\"## \"+el.text)\n",
    "        elif el.name == \"table\":\n",
    "            lines.append(\"# Table\")\n",
    "            lines.append(str(el))\n",
    "        elif el.name ==\"ol\":\n",
    "            lines.append(el.text)"
   ]
  },
  {
   "cell_type": "code",
   "execution_count": 107,
   "metadata": {},
   "outputs": [
    {
     "data": {
      "text/plain": [
       "['# Мы в регионах',\n",
       " 'Главная\\nКонтакты\\nМы в регионах',\n",
       " 'Главная\\nКонтакты\\nМы в регионах']"
      ]
     },
     "execution_count": 107,
     "metadata": {},
     "output_type": "execute_result"
    }
   ],
   "source": [
    "#lines=[]\n",
    "if len(els)==0:\n",
    "    els2 = content[0].findAll('div', class_=\"page_text\")\n",
    "    if (len(els2))>0:\n",
    "        page_text(els2[0])\n",
    "    else:\n",
    "        #print(content[0])\n",
    "        els2 = content[0].findAll('div', class_=\"conntent\")\n",
    "        page_text(content[0])\n",
    "else:\n",
    "    page_avto_expert_wr(els)\n",
    "\n",
    "\n",
    "lines\n"
   ]
  },
  {
   "cell_type": "code",
   "execution_count": 43,
   "metadata": {},
   "outputs": [],
   "source": [
    "# for el in els[0].childGenerator():\n",
    "#     if el.name==\"div\":\n",
    "#         print(el)"
   ]
  },
  {
   "cell_type": "code",
   "execution_count": 53,
   "metadata": {},
   "outputs": [
    {
     "data": {
      "text/plain": [
       "['# Независимая автотехническая экспертиза',\n",
       " '\\nВ сложных ситуациях, связанных с дорожно-транспортными происшествиями, или при купле-продаже автомобилей часто требуется профессиональная автотехническая экспертиза. Специалисты ФЛСЭ по услуге независимая экспертиза авто в Самаре помогут разрешить спорные вопросы путем проведения оценки состояния автомобиля и работ, необходимых для его восстановления после участия в ДТП.\\n',\n",
       " '# Table',\n",
       " '## Стоимость услуги',\n",
       " '<table border=\"1\" cellpadding=\"0\" cellspacing=\"0\" class=\"price-list price-list_second\">\\n<tbody>\\n<tr class=\"table-header_blue\">\\n<td colspan=\"1\" rowspan=\"2\">№</td>\\n<td colspan=\"1\" rowspan=\"2\">Услуга</td>\\n<td colspan=\"2\" rowspan=\"1\">Стоимость независимой досудебной экспертизы, руб.</td>\\n<td colspan=\"2\" rowspan=\"1\">Стоимость судебной экспертизы, руб</td>\\n</tr>\\n<tr class=\"table-header_blue\">\\n<td>Легковые а/м</td>\\n<td>Грузовые а/м и автобусы</td>\\n<td>Легковые а/м</td>\\n<td>Грузовые а/м и автобусы</td>\\n</tr>\\n<tr>\\n<td>I</td>\\n<td colspan=\"5\" rowspan=\"1\">Составления акта осмотра (повреждений)</td>\\n</tr>\\n<tr>\\n<td>\\xa0</td>\\n<td>Составление акта осмотра (повреждений) не более 1 позиции</td>\\n<td>1050</td>\\n<td>1200</td>\\n<td>2100</td>\\n<td>2400</td>\\n</tr>\\n<tr>\\n<td>\\xa0</td>\\n<td>Составление акта осмотра (повреждений) с включением от 2 до 3 позиций</td>\\n<td>1150</td>\\n<td>1350</td>\\n<td>2300</td>\\n<td>2700</td>\\n</tr>\\n<tr>\\n<td>\\xa0</td>\\n<td>То же, с включением от 4 до 5 позиций</td>\\n<td>1350</td>\\n<td>1450</td>\\n<td>2700</td>\\n<td>2900</td>\\n</tr>\\n<tr>\\n<td>\\xa0</td>\\n<td>То же, с включением от 6 до 10 позиций</td>\\n<td>1550</td>\\n<td>2000</td>\\n<td>3100</td>\\n<td>4000</td>\\n</tr>\\n<tr>\\n<td>\\xa0</td>\\n<td>То же, с включением от 11 до 20 позиций</td>\\n<td>1750</td>\\n<td>2300</td>\\n<td>3500</td>\\n<td>4600</td>\\n</tr>\\n<tr>\\n<td>\\xa0</td>\\n<td>То же, с включением от 21 до 30 позиций</td>\\n<td>2000</td>\\n<td>2550</td>\\n<td>4000</td>\\n<td>5100</td>\\n</tr>\\n<tr>\\n<td>\\xa0</td>\\n<td>То же, с включением от 31 до 40 позиций</td>\\n<td>2300</td>\\n<td>3100</td>\\n<td>4600</td>\\n<td>6200</td>\\n</tr>\\n<tr>\\n<td>\\xa0</td>\\n<td>То же, с включением от 41 до 50 позиций</td>\\n<td>2750</td>\\n<td>3400</td>\\n<td>5500</td>\\n<td>6800</td>\\n</tr>\\n<tr>\\n<td>\\xa0</td>\\n<td>То же, с включением от 51 до 60 позиций</td>\\n<td>3000</td>\\n<td>3900</td>\\n<td>6000</td>\\n<td>7800</td>\\n</tr>\\n<tr>\\n<td>\\xa0</td>\\n<td>То же, с включением от 61 позиции и более</td>\\n<td>3500</td>\\n<td>4650</td>\\n<td>7000</td>\\n<td>9300</td>\\n</tr>\\n<tr>\\n<td>II</td>\\n<td colspan=\"5\" rowspan=\"1\">Расчет стоимости ремонта автотранспортного средства, подготовка заключения</td>\\n</tr>\\n<tr>\\n<td>\\xa0</td>\\n<td>Расчет стоимости ремонта транспортного средства по готовому акту осмотра, при включении в акт осмотра (повреждений) не более 1 позиций</td>\\n<td>1700</td>\\n<td>1850</td>\\n<td>5000</td>\\n<td>5000</td>\\n</tr>\\n<tr>\\n<td>\\xa0</td>\\n<td>То же, при включении в акта осмотра (повреждений) с включением от 2 до 3 позиций</td>\\n<td>1950</td>\\n<td>2550</td>\\n<td>7000</td>\\n<td>8000</td>\\n</tr>\\n<tr>\\n<td>\\xa0</td>\\n<td>То же, с включением от 4 до 5 позиций</td>\\n<td>2300</td>\\n<td>3050</td>\\n<td>7000</td>\\n<td>8000</td>\\n</tr>\\n<tr>\\n<td>\\xa0</td>\\n<td>То же, с включением от 6 до 10 позиций</td>\\n<td>3050</td>\\n<td>3750</td>\\n<td>9000</td>\\n<td>10000</td>\\n</tr>\\n<tr>\\n<td>\\xa0</td>\\n<td>То же, с включением от 11 до 20 позиций</td>\\n<td>3700</td>\\n<td>4750</td>\\n<td>10000</td>\\n<td>11000</td>\\n</tr>\\n<tr>\\n<td>\\xa0</td>\\n<td>То же, с включением от 21 до 30 позиций</td>\\n<td>4250</td>\\n<td>5600</td>\\n<td>12000</td>\\n<td>13000</td>\\n</tr>\\n<tr>\\n<td>\\xa0</td>\\n<td>То же, с включением от 31 до 40 позиций</td>\\n<td>4850</td>\\n<td>6150</td>\\n<td>14000</td>\\n<td>15000</td>\\n</tr>\\n<tr>\\n<td>\\xa0</td>\\n<td>То же, с включением от 41 до 50 позиций</td>\\n<td>5600</td>\\n<td>7250</td>\\n<td>15000</td>\\n<td>16000</td>\\n</tr>\\n<tr>\\n<td>\\xa0</td>\\n<td>То же, с включением от 51 до 60 позиций</td>\\n<td>6150</td>\\n<td>8250</td>\\n<td>15000</td>\\n<td>16000</td>\\n</tr>\\n<tr>\\n<td>\\xa0</td>\\n<td>То же, с включением от 61 позиции и более</td>\\n<td>6950</td>\\n<td>9100</td>\\n<td>17000</td>\\n<td>18000</td>\\n</tr>\\n<tr>\\n<td>III</td>\\n<td colspan=\"5\" rowspan=\"1\">Прочие расчеты</td>\\n</tr>\\n<tr>\\n<td>\\xa0</td>\\n<td>Определение величины утраты товарной стоимости (без расчета стоимости ремонта)</td>\\n<td>3000</td>\\n<td>3650</td>\\n<td>6000</td>\\n<td>8000</td>\\n</tr>\\n<tr>\\n<td>\\xa0</td>\\n<td>Определение рыночной стоимости транспортных средств</td>\\n<td>4300</td>\\n<td>5500</td>\\n<td>6000</td>\\n<td>7000</td>\\n</tr>\\n<tr>\\n<td>\\xa0</td>\\n<td>Составление акта разногласий по калькуляциям (счетам) других организаций (по готовому расчету), экспертиза по нескольким актам осмотра</td>\\n<td>1500</td>\\n<td>2000</td>\\n<td colspan=\"2\" rowspan=\"1\">из расчета акта по наибольшему или совокупному количеству повреждений с коэффициентом 1,5</td>\\n</tr>\\n<tr>\\n<td>\\xa0</td>\\n<td>Расчет стоимости годных остатков</td>\\n<td>3000</td>\\n<td>3500</td>\\n<td>от 6000</td>\\n<td>от 7000</td>\\n</tr>\\n</tbody>\\n</table>',\n",
       " '## Зачем нужна экспертиза и оценка ущерба после ДТП',\n",
       " 'Определить техническое состояние транспортного средства',\n",
       " 'Установить механизм, обстоятельства и этапы ДТП',\n",
       " 'Определить соответствие действий водителей ПДД',\n",
       " 'Изучить причины и условия ДТП',\n",
       " '## На какие вопросы отвечает независимая экспертиза авто в Самаре?',\n",
       " '\\nС какой скоростью двигались ТС?\\nСостояние ТС до и после столкновения\\nТехнические причины ДТП\\nРасположение на проезжей части\\nПогодные условия\\nСостояние водителя во время ДТП\\nСкорость движения ТС перед торможением\\nБыла ли у водителя возможность избежать ДТП?\\nБыла ли авария вызвана неисправностью в работе автомобиля?\\nТормозной путь\\n',\n",
       " '## Какие документы потребуются для автоэкспертизы в Самаре?',\n",
       " '\\nОбъяснения участников ДТП\\nСхема ДТП, составленная сотрудником ГИБДД, либо собственноручно составленная схема с расположением ТС в момент столкновения. \\nСправка о ДТП \\nПостановление или протокол ГИБДД \\nФото, поврежденного ТС или возможность предоставить авто на осмотр.\\nЕсли есть, фото с места ДТП, фото препятствия, если заявляется наезд на препятствие (либо описание препятствия водителем) \\nЕсли есть, дополнительные материалы (записи с видео-регистраторов, фото свидетелей и т.п.)\\n']"
      ]
     },
     "execution_count": 53,
     "metadata": {},
     "output_type": "execute_result"
    }
   ],
   "source": [
    "# lines=[]\n",
    "\n",
    "\n",
    "\n",
    "lines"
   ]
  },
  {
   "cell_type": "code",
   "execution_count": 87,
   "metadata": {},
   "outputs": [],
   "source": [
    "text = \"\\n\".join(lines)\n",
    "filename = f'{path_content}/{num}.md'\n",
    "with open(filename,\"w\",encoding=\"utf-8\") as f:\n",
    "     f.write(text)\n"
   ]
  }
 ],
 "metadata": {
  "kernelspec": {
   "display_name": "base",
   "language": "python",
   "name": "python3"
  },
  "language_info": {
   "codemirror_mode": {
    "name": "ipython",
    "version": 3
   },
   "file_extension": ".py",
   "mimetype": "text/x-python",
   "name": "python",
   "nbconvert_exporter": "python",
   "pygments_lexer": "ipython3",
   "version": "3.11.4"
  }
 },
 "nbformat": 4,
 "nbformat_minor": 2
}
